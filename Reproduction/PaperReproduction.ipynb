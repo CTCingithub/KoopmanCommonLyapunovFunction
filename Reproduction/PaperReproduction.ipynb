{
 "cells": [
  {
   "attachments": {},
   "cell_type": "markdown",
   "metadata": {},
   "source": [
    "# 还原论文算例"
   ]
  },
  {
   "attachments": {},
   "cell_type": "markdown",
   "metadata": {},
   "source": [
    "原文中计算$\\varepsilon_{j}$的公式如下：\n",
    "\n",
    "$$\n",
    "\\varepsilon_{j} > \\max_{\\substack{i \\in \\{1, \\cdots, m \\} \\\\ j \\in \\{1, \\cdots, j - 1 \\}}} \\varepsilon_{k} \\frac{(n - 1)^{2}}{4} \\frac{\\lvert \\vec{v}_{k}^{H} A_{i} \\vec{v}_{j} \\rvert^{2}}{\\lvert \\operatorname{Re} (\\lambda_{i,j}) \\rvert \\lvert \\operatorname{Re} (\\lambda_{i,k}) \\rvert}\n",
    "$$\n"
   ]
  },
  {
   "attachments": {},
   "cell_type": "markdown",
   "metadata": {},
   "source": [
    "## Example 1"
   ]
  },
  {
   "attachments": {},
   "cell_type": "markdown",
   "metadata": {},
   "source": [
    "两个子系统分别为\n",
    "\n",
    "$$\n",
    "A_{1} = \\begin{bmatrix}\n",
    "-1 & 0 & 0 \\\\\n",
    "0 & -2 & 2 \\\\\n",
    "0 & 0 & -2\n",
    "\\end{bmatrix}, \\quad\n",
    "A_{2} = \\begin{bmatrix}\n",
    "-3 & 0 & 0 \\\\\n",
    "0 & -4 & 4 \\\\\n",
    "0 & 0 & -6\n",
    "\\end{bmatrix}.\n",
    "$$\n"
   ]
  },
  {
   "cell_type": "code",
   "execution_count": 1,
   "metadata": {},
   "outputs": [],
   "source": [
    "from utils import *\n",
    "\n",
    "A1 = torch.tensor([[-1, 0, 0], [0, -2, 2], [0, 0, -2]], dtype=torch.float32)\n",
    "A2 = torch.tensor([[-3, 0, 0], [0, -4, 4], [0, 0, -6]], dtype=torch.float32)\n",
    "A = (A1, A2)\n"
   ]
  },
  {
   "cell_type": "markdown",
   "metadata": {},
   "source": [
    "计算invariant maximal flag信息"
   ]
  },
  {
   "cell_type": "code",
   "execution_count": 2,
   "metadata": {},
   "outputs": [
    {
     "name": "stderr",
     "output_type": "stream",
     "text": [
      "c:\\Users\\CTC\\Desktop\\temporary working library\\Python\\KoopmanCommonLyapunovFunction\\utils.py:74: UserWarning: Casting complex values to real discards the imaginary part (Triggered internally at C:\\cb\\pytorch_1000000000000\\work\\aten\\src\\ATen\\native\\Copy.cpp:250.)\n"
     ]
    },
    {
     "name": "stdout",
     "output_type": "stream",
     "text": [
      "tensor([[1., 0., 0.],\n",
      "        [0., 1., 0.],\n",
      "        [0., 0., 1.]], device='cuda:0')\n",
      "tensor([[-1., -2., -2.],\n",
      "        [-3., -4., -6.]], device='cuda:0')\n"
     ]
    }
   ],
   "source": [
    "Example01 = ObtainInvariantMaximalFlag(A, device='cuda')\n",
    "VVectors, LambdaMatrix = Example01.ComputeFlagInfo()\n",
    "print(VVectors)\n",
    "print(LambdaMatrix)\n"
   ]
  },
  {
   "cell_type": "markdown",
   "metadata": {},
   "source": [
    "输入一个初始的系数组合，迭代求解得到Common Lyapunov Function的系数"
   ]
  },
  {
   "cell_type": "code",
   "execution_count": 3,
   "metadata": {},
   "outputs": [
    {
     "data": {
      "text/plain": [
       "tensor([0.1111, 0.1111, 0.1250], device='cuda:0')"
      ]
     },
     "execution_count": 3,
     "metadata": {},
     "output_type": "execute_result"
    }
   ],
   "source": [
    "InitialCoeff = torch.tensor([1 / 9, 1 / 9, 1 / 8])\n",
    "#Example01.LyapunovFunCoeff(InitialCoeff, PrintLog=True)\n",
    "Example01.LyapunovFunCoeff(InitialCoeff)\n"
   ]
  },
  {
   "cell_type": "markdown",
   "metadata": {},
   "source": [
    "We obtain the common Lyapunov function as follows:\n",
    "\n",
    "$$\n",
    "V(\\vec{x}) = \\frac{1}{9} x_{1}^{2} + \\frac{1}{9} x_{2}^{2} + \\frac{1}{9} x_{2}^{4}\n",
    "$$\n"
   ]
  },
  {
   "cell_type": "markdown",
   "metadata": {},
   "source": [
    "## Example 2"
   ]
  },
  {
   "cell_type": "markdown",
   "metadata": {},
   "source": [
    "两个子系统分别为\n",
    "\n",
    "$$\n",
    "A_{1} = \\begin{bmatrix}\n",
    "-2 & 0 & 0 & 1 & 0 \\\\\n",
    "0 & -2 & -1 & 0 & 0 \\\\\n",
    "0 & 0 & -4 & 0 & 0 \\\\\n",
    "0 & 0 & 0 & -4 & 0 \\\\\n",
    "0 & 0 & 0 & 0 & -4\n",
    "\\end{bmatrix}, \\quad\n",
    "A_{2} = \\begin{bmatrix}\n",
    "-2 & 0 & 0 & 0 & 1 \\\\\n",
    "0 & -1 & -1 & 0 & 0 \\\\\n",
    "0 & 0 & -4 & 0 & 0 \\\\\n",
    "0 & 0 & 0 & -3 & 0 \\\\\n",
    "0 & 0 & 0 & 0 & -2\n",
    "\\end{bmatrix}.\n",
    "$$\n"
   ]
  },
  {
   "cell_type": "code",
   "execution_count": 4,
   "metadata": {},
   "outputs": [],
   "source": [
    "A1 = torch.tensor([[-2, 0, 0, 1, 0], [0, -2, -1, 0, 0], [0, 0, -4, 0, 0],\n",
    "                   [0, 0, 0, -4, 0], [0, 0, 0, 0, -4]],\n",
    "                  dtype=torch.float32)\n",
    "A2 = torch.tensor([[-2, 0, 0, 0, 1], [0, -1, -1, 0, 0], [0, 0, -4, 0, 0],\n",
    "                   [0, 0, 0, -3, 0], [0, 0, 0, 0, -2]],\n",
    "                  dtype=torch.float32)\n",
    "A = (A1, A2)\n"
   ]
  },
  {
   "cell_type": "markdown",
   "metadata": {},
   "source": [
    "计算invariant maximal flag信息"
   ]
  },
  {
   "cell_type": "code",
   "execution_count": 5,
   "metadata": {},
   "outputs": [
    {
     "name": "stdout",
     "output_type": "stream",
     "text": [
      "tensor([[1., 0., 0., 0., 0.],\n",
      "        [0., 1., 0., 0., 0.],\n",
      "        [0., 0., 1., 0., 0.],\n",
      "        [0., 0., 0., 1., 0.],\n",
      "        [0., 0., 0., 0., 1.]])\n",
      "tensor([[-2., -2., -4., -4., -4.],\n",
      "        [-2., -1., -4., -3., -2.]])\n"
     ]
    }
   ],
   "source": [
    "Example02 = ObtainInvariantMaximalFlag(A, device=\"gpu\")\n",
    "VVectors, LambdaMatrix = Example02.ComputeFlagInfo()\n",
    "print(VVectors)\n",
    "print(LambdaMatrix)\n"
   ]
  },
  {
   "cell_type": "markdown",
   "metadata": {},
   "source": [
    "输入一个初始的系数组合，迭代求解得到Common Lyapunov Function的系数"
   ]
  },
  {
   "cell_type": "code",
   "execution_count": 6,
   "metadata": {},
   "outputs": [
    {
     "name": "stdout",
     "output_type": "stream",
     "text": [
      "==========================================\n",
      "j = 1 \n",
      "\n",
      "initial value = 0.04 \n",
      "\n",
      "value = 0.04 \n",
      "\n",
      "==========================================\n",
      "j = 2 \n",
      "\n",
      "initial value = 0.04 \n",
      "\n",
      "i = 1 , j = 2 , k = 1 , value = 0.0\n",
      "i = 2 , j = 2 , k = 1 , value = 0.0\n",
      "\n",
      "Value should be 0.04 \n",
      "\n",
      "==========================================\n",
      "j = 3 \n",
      "\n",
      "initial value = 0.041666668 \n",
      "\n",
      "i = 1 , j = 3 , k = 1 , value = 0.0\n",
      "i = 1 , j = 3 , k = 2 , value = 0.02\n",
      "i = 2 , j = 3 , k = 1 , value = 0.0\n",
      "i = 2 , j = 3 , k = 2 , value = 0.04\n",
      "\n",
      "Value should be 0.041666668 \n",
      "\n",
      "==========================================\n",
      "j = 4 \n",
      "\n",
      "initial value = 0.021276595 \n",
      "\n",
      "i = 1 , j = 4 , k = 1 , value = 0.02\n",
      "i = 1 , j = 4 , k = 2 , value = 0.0\n",
      "i = 1 , j = 4 , k = 3 , value = 0.0\n",
      "i = 2 , j = 4 , k = 1 , value = 0.0\n",
      "i = 2 , j = 4 , k = 2 , value = 0.0\n",
      "i = 2 , j = 4 , k = 3 , value = 0.0\n",
      "\n",
      "Value should be 0.021276595 \n",
      "\n",
      "==========================================\n",
      "j = 5 \n",
      "\n",
      "initial value = 0.02173913 \n",
      "\n",
      "i = 1 , j = 5 , k = 1 , value = 0.0\n",
      "i = 1 , j = 5 , k = 2 , value = 0.0\n",
      "i = 1 , j = 5 , k = 3 , value = 0.0\n",
      "i = 1 , j = 5 , k = 4 , value = 0.0\n",
      "i = 2 , j = 5 , k = 1 , value = 0.04\n",
      "i = 2 , j = 5 , k = 2 , value = 0.0\n",
      "i = 2 , j = 5 , k = 3 , value = 0.0\n",
      "i = 2 , j = 5 , k = 4 , value = 0.0\n",
      "\n",
      "Value should be 0.04 \n",
      "\n",
      "\n",
      "\n",
      "******************************** ********************\n",
      "Coefficients should be:\n",
      "[0.04       0.04       0.04166667 0.0212766  0.04      ]\n",
      "****************************************************\n"
     ]
    },
    {
     "data": {
      "text/plain": [
       "tensor([0.0400, 0.0400, 0.0417, 0.0213, 0.0400])"
      ]
     },
     "execution_count": 6,
     "metadata": {},
     "output_type": "execute_result"
    }
   ],
   "source": [
    "InitialCoeff = torch.tensor([1 / 25, 1 / 25, 1 / 24, 1 / 47, 1 / 46])\n",
    "Example02.LyapunovFunCoeff(InitialCoeff,PrintLog=True)\n"
   ]
  },
  {
   "cell_type": "markdown",
   "metadata": {},
   "source": [
    "We obtain the common Lyapunov function as follows:\n",
    "\n",
    "$$\n",
    "V(\\vec{x}) = \\frac{1}{25} x_{1}^{2} + \\frac{1}{25} x_{2}^{2} + \\frac{1}{24} x_{1}^{4} + \\frac{1}{47} x_{1}^{2} x_{2}^{2} + \\frac{1}{25} x_{2}^{4}\n",
    "$$\n"
   ]
  }
 ],
 "metadata": {
  "kernelspec": {
   "display_name": "KCLF",
   "language": "python",
   "name": "python3"
  },
  "language_info": {
   "codemirror_mode": {
    "name": "ipython",
    "version": 3
   },
   "file_extension": ".py",
   "mimetype": "text/x-python",
   "name": "python",
   "nbconvert_exporter": "python",
   "pygments_lexer": "ipython3",
   "version": "3.10.9"
  },
  "orig_nbformat": 4
 },
 "nbformat": 4,
 "nbformat_minor": 2
}
