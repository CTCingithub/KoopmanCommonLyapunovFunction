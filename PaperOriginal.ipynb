{
 "cells": [
  {
   "attachments": {},
   "cell_type": "markdown",
   "metadata": {},
   "source": [
    "# 还原论文算例"
   ]
  },
  {
   "cell_type": "code",
   "execution_count": 1,
   "metadata": {},
   "outputs": [
    {
     "name": "stdout",
     "output_type": "stream",
     "text": [
      "(tensor([[1.],\n",
      "        [0.],\n",
      "        [0.]]), tensor([[-1., -3.]]))\n"
     ]
    },
    {
     "name": "stderr",
     "output_type": "stream",
     "text": [
      "c:\\Users\\CTC\\Desktop\\temporary working library\\Python\\KoopmanCommonLyapunovFunction\\utils.py:62: UserWarning: Casting complex values to real discards the imaginary part (Triggered internally at C:\\cb\\pytorch_1000000000000\\work\\aten\\src\\ATen\\native\\Copy.cpp:250.)\n"
     ]
    }
   ],
   "source": [
    "from utils import *\n",
    "\n",
    "A1 = torch.tensor([[-1, 0, 0], [0, -2, 2], [0, 0, -2]], dtype=torch.float32)\n",
    "A2 = torch.tensor([[-3, 0, 0], [0, -4, 4], [0, 0, -6]], dtype=torch.float32)\n",
    "A=(A1,A2)\n",
    "\n",
    "print(GetCommonEigenInfo(A))\n"
   ]
  },
  {
   "cell_type": "code",
   "execution_count": 2,
   "metadata": {},
   "outputs": [
    {
     "ename": "RuntimeError",
     "evalue": "Expected all tensors to be on the same device, but found at least two devices, cuda:0 and cpu!",
     "output_type": "error",
     "traceback": [
      "\u001b[1;31m---------------------------------------------------------------------------\u001b[0m",
      "\u001b[1;31mRuntimeError\u001b[0m                              Traceback (most recent call last)",
      "Cell \u001b[1;32mIn[2], line 2\u001b[0m\n\u001b[0;32m      1\u001b[0m temp \u001b[39m=\u001b[39m (A1\u001b[39m.\u001b[39mto(\u001b[39m'\u001b[39m\u001b[39mcuda:0\u001b[39m\u001b[39m'\u001b[39m), A2\u001b[39m.\u001b[39mto(\u001b[39m'\u001b[39m\u001b[39mcuda:0\u001b[39m\u001b[39m'\u001b[39m))\n\u001b[1;32m----> 2\u001b[0m GetCommonEigenInfo(temp,\n\u001b[0;32m      3\u001b[0m                    Blacklist\u001b[39m=\u001b[39;49mtorch\u001b[39m.\u001b[39;49mtensor([[\u001b[39m1\u001b[39;49m], [\u001b[39m0\u001b[39;49m], [\u001b[39m0\u001b[39;49m]], device\u001b[39m=\u001b[39;49m\u001b[39m'\u001b[39;49m\u001b[39mcuda:0\u001b[39;49m\u001b[39m'\u001b[39;49m),\n\u001b[0;32m      4\u001b[0m                    device\u001b[39m=\u001b[39;49m\u001b[39m'\u001b[39;49m\u001b[39mcuda:0\u001b[39;49m\u001b[39m'\u001b[39;49m)\n",
      "File \u001b[1;32mc:\\Users\\CTC\\Desktop\\temporary working library\\Python\\KoopmanCommonLyapunovFunction\\utils.py:75\u001b[0m, in \u001b[0;36mGetCommonEigenInfo\u001b[1;34m(MatrixSet, Blacklist, tol, device)\u001b[0m\n",
      "File \u001b[1;32mc:\\Users\\CTC\\Desktop\\temporary working library\\Python\\KoopmanCommonLyapunovFunction\\utils.py:46\u001b[0m, in \u001b[0;36mIsEqual\u001b[1;34m(vector1, vector2, tol)\u001b[0m\n",
      "\u001b[1;31mRuntimeError\u001b[0m: Expected all tensors to be on the same device, but found at least two devices, cuda:0 and cpu!"
     ]
    }
   ],
   "source": [
    "temp = (A1.to('cuda:0'), A2.to('cuda:0'))\n",
    "GetCommonEigenInfo(temp,\n",
    "                   Blacklist=torch.tensor([[1], [0], [0]], device='cuda:0'),\n",
    "                   device='cuda:0')\n"
   ]
  },
  {
   "cell_type": "code",
   "execution_count": 3,
   "metadata": {},
   "outputs": [
    {
     "name": "stdout",
     "output_type": "stream",
     "text": [
      "tensor([[1.],\n",
      "        [0.],\n",
      "        [0.]], device='cuda:0')\n",
      "tensor([[-1., -3.]], device='cuda:0')\n",
      "tensor([[1., 0., 0.],\n",
      "        [0., 0., 0.],\n",
      "        [0., 0., 0.]], device='cuda:0')\n"
     ]
    },
    {
     "ename": "AttributeError",
     "evalue": "'tuple' object has no attribute 'to'",
     "output_type": "error",
     "traceback": [
      "\u001b[1;31m---------------------------------------------------------------------------\u001b[0m",
      "\u001b[1;31mAttributeError\u001b[0m                            Traceback (most recent call last)",
      "Cell \u001b[1;32mIn[3], line 3\u001b[0m\n\u001b[0;32m      1\u001b[0m temp\u001b[39m=\u001b[39mObtainInvariantMaximalFlag(A,device\u001b[39m=\u001b[39m\u001b[39m\"\u001b[39m\u001b[39mcuda\u001b[39m\u001b[39m\"\u001b[39m)\n\u001b[0;32m      2\u001b[0m \u001b[39m#temp=ObtainInvariantMaximalFlag(A)\u001b[39;00m\n\u001b[1;32m----> 3\u001b[0m temp\u001b[39m.\u001b[39;49mComputeFlagInfo()\n",
      "File \u001b[1;32mc:\\Users\\CTC\\Desktop\\temporary working library\\Python\\KoopmanCommonLyapunovFunction\\utils.py:157\u001b[0m, in \u001b[0;36mComputeFlagInfo\u001b[1;34m(self)\u001b[0m\n",
      "\u001b[1;31mAttributeError\u001b[0m: 'tuple' object has no attribute 'to'"
     ]
    }
   ],
   "source": [
    "temp=ObtainInvariantMaximalFlag(A,device=\"cuda\")\n",
    "#temp=ObtainInvariantMaximalFlag(A)\n",
    "temp.ComputeFlagInfo()\n"
   ]
  },
  {
   "attachments": {},
   "cell_type": "markdown",
   "metadata": {},
   "source": [
    "原文中计算$\\epsilon_{j}$的公式如下：\n",
    "\n",
    "$$\n",
    "\\epsilon_{j} > \\max_{\\substack{i \\in \\{1, \\cdots, m \\} \\\\ j \\in \\{1, \\cdots, j - 1 \\}}} \\epsilon_{k} \\frac{(n - 1)^{2}}{4} \\frac{\\lvert \\vec{v}_{k}^{*} A_{i} \\vec{v}_{j} \\rvert^{2}}{\\lvert \\operatorname{Re} (\\lambda_{i,j}) \\rvert \\lvert \\operatorname{Re} (\\lambda_{i,k}) \\rvert}\n",
    "$$\n",
    "\n",
    "定义计算$\\epsilon_{j}$可能的值的函数如下\n"
   ]
  },
  {
   "cell_type": "code",
   "execution_count": null,
   "metadata": {},
   "outputs": [],
   "source": [
    "import numpy as np\n",
    "\n",
    "\n",
    "def EpsilonPossible(i, j, k, Dimension, EpsilonInputArray, v, A, Lambda):\n",
    "    # i,j,k表示公式中的i,j,k下标，从1开始\n",
    "    # EpsilonInputArray是计算时候输入的$\\epsilon_{k}$的序列，在取完max后更新\n",
    "    # A表示线性切换系统子系统的系统矩阵\n",
    "    # $v_{j}$等表示求maximal invarient flag时对应的特征向量\n",
    "    # $\\lambda_{i,j}$表示共同的特征向量对应的特征值\n",
    "    VkConjugateTransAiVj = v[:,k - 1].conj().T @ A[i - 1] @ v[:,j - 1]\n",
    "    return EpsilonInputArray[k - 1] * np.power(\n",
    "        Dimension - 1, 2) / 4 * np.power(\n",
    "            np.linalg.norm(VkConjugateTransAiVj), 2) / (np.abs(\n",
    "                Lambda[i - 1, j - 1].real) * np.abs(Lambda[i - 1, k - 1].real))\n"
   ]
  },
  {
   "attachments": {},
   "cell_type": "markdown",
   "metadata": {},
   "source": [
    "定义一个返回共同特征向量及对应特征值的函数"
   ]
  },
  {
   "cell_type": "code",
   "execution_count": null,
   "metadata": {},
   "outputs": [],
   "source": [
    "import itertools\n",
    "\n",
    "\n",
    "def GetCommonEigVecInfo(Subsystemset, Blacklist=None):\n",
    "    # 论文都是两个子系统的例子，这里只考虑两个子系统的情况\n",
    "    n = Subsystemset[0].shape[0]\n",
    "    temp1 = np.linalg.eig(Subsystemset[0])\n",
    "    temp2 = np.linalg.eig(Subsystemset[1])\n",
    "\n",
    "    # 删除对应于Blacklist中元素的项\n",
    "    if Blacklist != None:\n",
    "        for i in range(Blacklist.shape[1]):\n",
    "            print(\"i = \",i)\n",
    "            for j in range(temp1[1].shape[1]):\n",
    "                print(\"j = \",j)\n",
    "                if np.array_equal(Blacklist[:, i], temp1[1][:, j]):\n",
    "                    temp1 = (np.delete(temp1[0],\n",
    "                                       j), np.delete(temp1[1], j, axis=1))\n",
    "                if np.array_equal(Blacklist[:, i], temp2[1][:, j]):\n",
    "                    temp2 = (np.delete(temp2[0],\n",
    "                                       j), np.delete(temp2[1], j, axis=1))\n",
    "\n",
    "    for i, j in itertools.product(range(n), range(n)):\n",
    "        if np.array_equal(temp1[1][:, i], temp2[1][:, j]):\n",
    "            return temp1[0][i], temp2[0][j], temp1[1][:, i]\n"
   ]
  },
  {
   "cell_type": "code",
   "execution_count": null,
   "metadata": {},
   "outputs": [],
   "source": [
    "temp1=np.diag([1,2,3])\n",
    "temp2=np.diag([1,2,4])\n",
    "\n",
    "blacklisttemp=np.array([[1, 0], [0, 1], [0, 0]])\n",
    "\n",
    "for i in range(blacklisttemp.shape[1]):\n",
    "    print(i)\n",
    "\n",
    "print(np.linalg.eig(temp1),\"\\n\",np.linalg.eig(temp2))\n",
    "GetCommonEigVecInfo((np.diag([1, 2, 3]), np.diag([1, 2, 4])),\n",
    "                    np.array([[1, 0], [0, 1], [0, 0]]))\n"
   ]
  },
  {
   "attachments": {},
   "cell_type": "markdown",
   "metadata": {},
   "source": [
    "定义一个根据$V=\\begin{bmatrix} \\vec{v}_{1} & \\vec{v}_{2} & \\cdots & \\vec{v}_{k} \\end{bmatrix}$矩阵计算$P_{k}$的函数\n"
   ]
  },
  {
   "cell_type": "code",
   "execution_count": null,
   "metadata": {},
   "outputs": [],
   "source": [
    "def GetPMatrix(Vmatrix):\n",
    "    return Vmatrix @ np.linalg.inv(\n",
    "        Vmatrix.conj().T @ Vmatrix) @ Vmatrix.conj().T\n"
   ]
  },
  {
   "attachments": {},
   "cell_type": "markdown",
   "metadata": {},
   "source": [
    "定义一个返回切换所有$\\lambda$和$\\vec{v}$的函数\n"
   ]
  },
  {
   "cell_type": "code",
   "execution_count": null,
   "metadata": {},
   "outputs": [],
   "source": [
    "def GetInvariantMaximalFlagInfo(Subsystemset):\n",
    "    # 论文都是两个子系统的例子，这里只考虑两个子系统的情况\n",
    "    n = Subsystemset[0].shape[0]\n",
    "    TempSubsysSet = Subsystemset\n",
    "\n",
    "    # 初始化Lambda矩阵，$\\lambda_{i,j}$对应于其元素Lambda[i-1,j-1]\n",
    "    Lambda = np.zeros((2, n))\n",
    "\n",
    "    for i in range(n):\n",
    "        # 计算$\\lambda_{1,i+1}$和$\\lambda_{2,i+1}$和$\\vec{v}_{i+1}$\n",
    "        if i == 0:\n",
    "            temp = GetCommonEigVecInfo(TempSubsysSet)\n",
    "            V = temp[2].reshape(-1, 1)\n",
    "        else:\n",
    "            temp = GetCommonEigVecInfo(TempSubsysSet, V)\n",
    "            V = np.append(V, temp[2].reshape(-1, 1), axis=1)\n",
    "\n",
    "        Lambda[:, i] = temp[:2]\n",
    "\n",
    "        print(\"i = \", i)\n",
    "\n",
    "        print(temp)\n",
    "\n",
    "        print(\"V =\\n\", V)\n",
    "\n",
    "        # 更新TempSubsysSet\n",
    "        Ptemp = GetPMatrix(V.reshape(n, -1))\n",
    "        print(\"P =\\n\", Ptemp)\n",
    "        TempSubsysSet = ((np.identity(n) - Ptemp) @ TempSubsysSet[0],\n",
    "                         (np.identity(n) - Ptemp) @ TempSubsysSet[1])\n",
    "        print(\"b\")\n",
    "\n",
    "    return Lambda, V\n"
   ]
  },
  {
   "attachments": {},
   "cell_type": "markdown",
   "metadata": {},
   "source": [
    "## Example 1"
   ]
  },
  {
   "attachments": {},
   "cell_type": "markdown",
   "metadata": {},
   "source": [
    "定义两个子系统"
   ]
  },
  {
   "cell_type": "code",
   "execution_count": null,
   "metadata": {},
   "outputs": [],
   "source": [
    "A1 = np.array([[-1, 0, 0], [0, -2, 2], [0, 0, -2]])\n",
    "A2 = np.array([[-3, 0, 0], [0, -4, 4], [0, 0, -6]])\n",
    "A = (A1, A2)\n"
   ]
  },
  {
   "cell_type": "code",
   "execution_count": null,
   "metadata": {},
   "outputs": [],
   "source": [
    "Lambda=np.zeros((2,3))\n",
    "Lambda[:,0]=GetCommonEigVecInfo(A)[:2]\n",
    "V=[]\n",
    "V=np.append(V,GetCommonEigVecInfo(A)[2].reshape(-1,1)).reshape(3,-1)\n",
    "\n",
    "V=np.append(V,V,axis=1)\n",
    "\n",
    "V"
   ]
  },
  {
   "cell_type": "code",
   "execution_count": null,
   "metadata": {},
   "outputs": [],
   "source": [
    "GetInvariantMaximalFlagInfo(A)"
   ]
  }
 ],
 "metadata": {
  "kernelspec": {
   "display_name": "KCLF",
   "language": "python",
   "name": "python3"
  },
  "language_info": {
   "codemirror_mode": {
    "name": "ipython",
    "version": 3
   },
   "file_extension": ".py",
   "mimetype": "text/x-python",
   "name": "python",
   "nbconvert_exporter": "python",
   "pygments_lexer": "ipython3",
   "version": "3.10.9"
  },
  "orig_nbformat": 4
 },
 "nbformat": 4,
 "nbformat_minor": 2
}
