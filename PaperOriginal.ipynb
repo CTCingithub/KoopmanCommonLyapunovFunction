{
 "cells": [
  {
   "attachments": {},
   "cell_type": "markdown",
   "metadata": {},
   "source": [
    "# 还原论文算例"
   ]
  },
  {
   "attachments": {},
   "cell_type": "markdown",
   "metadata": {},
   "source": [
    "原文中计算$\\epsilon_{j}$的公式如下：\n",
    "\n",
    "$$\n",
    "\\epsilon_{j} > \\max_{\\substack{i \\in \\{1, \\cdots, m \\} \\\\ j \\in \\{1, \\cdots, j - 1 \\}}} \\epsilon_{k} \\frac{(n - 1)^{2}}{4} \\frac{\\lvert \\vec{v}_{k}^{*} A_{i} \\vec{v}_{j} \\rvert^{2}}{\\lvert \\operatorname{Re} (\\lambda_{i,j}) \\rvert \\lvert \\operatorname{Re} (\\lambda_{i,k}) \\rvert}\n",
    "$$\n",
    "\n",
    "定义计算$\\epsilon_{j}$可能的值的函数如下\n"
   ]
  },
  {
   "cell_type": "code",
   "execution_count": 5,
   "metadata": {},
   "outputs": [],
   "source": [
    "import numpy as np\n",
    "\n",
    "\n",
    "def EpsilonPossible(i, j, k, Dimension, EpsilonInputArray, v, A, Lambda):\n",
    "    # i,j,k表示公式中的i,j,k下标，从1开始\n",
    "    # EpsilonInputArray是计算时候输入的$\\epsilon_{k}$的序列，在取完max后更新\n",
    "    # A表示线性切换系统子系统的系统矩阵\n",
    "    # $v_{j}$等表示秋maximal invarient flag时对应的特征向量\n",
    "    # $\\lambda_{i,j}$表示共同的特征向量对应的特征值\n",
    "    VkConjugateTransAiVj = v[k - 1].conj().T @ A[i - 1] @ v[j - 1]\n",
    "    return EpsilonInputArray[k - 1] * np.power(\n",
    "        Dimension - 1, 2) / 4 * np.power(\n",
    "            np.linalg.norm(VkConjugateTransAiVj), 2) / (np.abs(\n",
    "                Lambda[i - 1, j - 1].real) * np.abs(Lambda[i - 1, k - 1].real))\n"
   ]
  },
  {
   "attachments": {},
   "cell_type": "markdown",
   "metadata": {},
   "source": [
    "定义一个返回共同特征向量及对应特征值的函数"
   ]
  },
  {
   "cell_type": "code",
   "execution_count": 64,
   "metadata": {},
   "outputs": [],
   "source": [
    "import itertools\n",
    "\n",
    "\n",
    "def GetCommonEigVecInfo(Subsystemset):\n",
    "    # 论文都是两个子系统的例子，这里只考虑两个子系统的情况\n",
    "    n = Subsystemset[0].shape[0]\n",
    "    temp1 = np.linalg.eig(Subsystemset[0])\n",
    "    temp2 = np.linalg.eig(Subsystemset[1])\n",
    "\n",
    "    for i, j in itertools.product(range(n), range(n)):\n",
    "        if np.array_equal(temp1[1][:, i], temp2[1][:, j]):\n",
    "            return temp1[0][i], temp2[0][j], temp1[1][:, i]\n",
    "\n",
    "    pass\n"
   ]
  },
  {
   "attachments": {},
   "cell_type": "markdown",
   "metadata": {},
   "source": [
    "定义一个根据$V=\\begin{bmatrix} \\vec{v}_{1} & \\vec{v}_{2} & \\cdots & \\vec{v}_{k} \\end{bmatrix}$矩阵计算$P_{k}$的函数\n"
   ]
  },
  {
   "cell_type": "code",
   "execution_count": 79,
   "metadata": {},
   "outputs": [],
   "source": [
    "def GetPMatrix(Vmatrix):\n",
    "    return Vmatrix @ np.linalg.inv(\n",
    "        Vmatrix.conj().T @ Vmatrix) @ Vmatrix.conj().T\n"
   ]
  },
  {
   "attachments": {},
   "cell_type": "markdown",
   "metadata": {},
   "source": [
    "定义一个返回切换所有$\\lambda$和$\\vec{v}$的函数\n"
   ]
  },
  {
   "cell_type": "code",
   "execution_count": 94,
   "metadata": {},
   "outputs": [],
   "source": [
    "def GetInvariantMaximalFlagInfo(Subsystemset):\n",
    "    # 论文都是两个子系统的例子，这里只考虑两个子系统的情况\n",
    "    n = Subsystemset[0].shape[0]\n",
    "    TempSubsysSet = Subsystemset\n",
    "\n",
    "    # 初始化Lambda矩阵，$\\lambda_{i,j}$对应于其元素Lambda[i-1,j-1]\n",
    "    Lambda = np.zeros((2, n))\n",
    "\n",
    "    # 初始化V矩阵，$\\vec{v}_{i}$对应于V[:,i-1]\n",
    "    V = []\n",
    "\n",
    "    for i in range(n):\n",
    "        # 计算$\\lambda_{1,i+1}$和$\\lambda_{2,i+1}$\n",
    "        Lambda[:, i] = GetCommonEigVecInfo(TempSubsysSet)[:2]\n",
    "\n",
    "        # 计算$\\vec{v}_{i+1}$\n",
    "        V = np.append(V,\n",
    "                      GetCommonEigVecInfo(TempSubsysSet)[2].reshape(\n",
    "                          -1, 1),axis=1).reshape(n, -1)\n",
    "\n",
    "        # 更新TempSubsysSet\n",
    "        Ptemp = GetPMatrix(V.reshape(n, -1))\n",
    "        TempSubsysSet = ((np.identity(n) - Ptemp) @ TempSubsysSet[0],\n",
    "                         (np.identity(n) - Ptemp) @ TempSubsysSet[1])\n",
    "        \n",
    "        print(i)\n",
    "        \n",
    "    return Lambda,V\n"
   ]
  },
  {
   "attachments": {},
   "cell_type": "markdown",
   "metadata": {},
   "source": [
    "## Example 1"
   ]
  },
  {
   "attachments": {},
   "cell_type": "markdown",
   "metadata": {},
   "source": [
    "定义两个子系统"
   ]
  },
  {
   "cell_type": "code",
   "execution_count": 82,
   "metadata": {},
   "outputs": [],
   "source": [
    "A1 = np.array([[-1, 0, 0], [0, -2, 2], [0, 0, -2]])\n",
    "A2 = np.array([[-3, 0, 0], [0, -4, 4], [0, 0, -6]])\n",
    "A = (A1, A2)\n"
   ]
  },
  {
   "cell_type": "code",
   "execution_count": 55,
   "metadata": {},
   "outputs": [
    {
     "data": {
      "text/plain": [
       "(-1.0, -3.0, array([1., 0., 0.]))"
      ]
     },
     "execution_count": 55,
     "metadata": {},
     "output_type": "execute_result"
    }
   ],
   "source": [
    "GetCommonEigVecInfo(A)"
   ]
  },
  {
   "cell_type": "code",
   "execution_count": 95,
   "metadata": {},
   "outputs": [
    {
     "data": {
      "text/plain": [
       "array([[1., 1.],\n",
       "       [0., 0.],\n",
       "       [0., 0.]])"
      ]
     },
     "execution_count": 95,
     "metadata": {},
     "output_type": "execute_result"
    }
   ],
   "source": [
    "Lambda=np.zeros((2,3))\n",
    "Lambda[:,0]=GetCommonEigVecInfo(A)[:2]\n",
    "V=[]\n",
    "V=np.append(V,GetCommonEigVecInfo(A)[2].reshape(-1,1)).reshape(3,-1)\n",
    "\n",
    "np.append(V,V,axis=1)"
   ]
  },
  {
   "cell_type": "code",
   "execution_count": 96,
   "metadata": {},
   "outputs": [
    {
     "ename": "AxisError",
     "evalue": "axis 1 is out of bounds for array of dimension 1",
     "output_type": "error",
     "traceback": [
      "\u001b[0;31m---------------------------------------------------------------------------\u001b[0m",
      "\u001b[0;31mAxisError\u001b[0m                                 Traceback (most recent call last)",
      "Cell \u001b[0;32mIn[96], line 1\u001b[0m\n\u001b[0;32m----> 1\u001b[0m GetInvariantMaximalFlagInfo(A)\n",
      "Cell \u001b[0;32mIn[94], line 17\u001b[0m, in \u001b[0;36mGetInvariantMaximalFlagInfo\u001b[0;34m(Subsystemset)\u001b[0m\n\u001b[1;32m     14\u001b[0m Lambda[:, i] \u001b[39m=\u001b[39m GetCommonEigVecInfo(TempSubsysSet)[:\u001b[39m2\u001b[39m]\n\u001b[1;32m     16\u001b[0m \u001b[39m# 计算$\\vec{v}_{i+1}$\u001b[39;00m\n\u001b[0;32m---> 17\u001b[0m V \u001b[39m=\u001b[39m np\u001b[39m.\u001b[39;49mappend(V,\n\u001b[1;32m     18\u001b[0m               GetCommonEigVecInfo(TempSubsysSet)[\u001b[39m2\u001b[39;49m]\u001b[39m.\u001b[39;49mreshape(\n\u001b[1;32m     19\u001b[0m                   \u001b[39m-\u001b[39;49m\u001b[39m1\u001b[39;49m, \u001b[39m1\u001b[39;49m),axis\u001b[39m=\u001b[39;49m\u001b[39m1\u001b[39;49m)\u001b[39m.\u001b[39mreshape(n, \u001b[39m-\u001b[39m\u001b[39m1\u001b[39m)\n\u001b[1;32m     21\u001b[0m \u001b[39m# 更新TempSubsysSet\u001b[39;00m\n\u001b[1;32m     22\u001b[0m Ptemp \u001b[39m=\u001b[39m GetPMatrix(V\u001b[39m.\u001b[39mreshape(n, \u001b[39m-\u001b[39m\u001b[39m1\u001b[39m))\n",
      "File \u001b[0;32m~/anaconda3/envs/KCLF/lib/python3.10/site-packages/numpy/lib/function_base.py:5617\u001b[0m, in \u001b[0;36mappend\u001b[0;34m(arr, values, axis)\u001b[0m\n\u001b[1;32m   5615\u001b[0m     values \u001b[39m=\u001b[39m ravel(values)\n\u001b[1;32m   5616\u001b[0m     axis \u001b[39m=\u001b[39m arr\u001b[39m.\u001b[39mndim\u001b[39m-\u001b[39m\u001b[39m1\u001b[39m\n\u001b[0;32m-> 5617\u001b[0m \u001b[39mreturn\u001b[39;00m concatenate((arr, values), axis\u001b[39m=\u001b[39;49maxis)\n",
      "\u001b[0;31mAxisError\u001b[0m: axis 1 is out of bounds for array of dimension 1"
     ]
    }
   ],
   "source": [
    "GetInvariantMaximalFlagInfo(A)"
   ]
  }
 ],
 "metadata": {
  "kernelspec": {
   "display_name": "KCLF",
   "language": "python",
   "name": "python3"
  },
  "language_info": {
   "codemirror_mode": {
    "name": "ipython",
    "version": 3
   },
   "file_extension": ".py",
   "mimetype": "text/x-python",
   "name": "python",
   "nbconvert_exporter": "python",
   "pygments_lexer": "ipython3",
   "version": "3.10.11"
  },
  "orig_nbformat": 4
 },
 "nbformat": 4,
 "nbformat_minor": 2
}
