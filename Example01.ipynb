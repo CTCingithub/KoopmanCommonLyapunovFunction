{
 "cells": [
  {
   "attachments": {},
   "cell_type": "markdown",
   "metadata": {},
   "source": [
    "# Example 01. Exact Finite-dimensional Representation"
   ]
  },
  {
   "attachments": {},
   "cell_type": "markdown",
   "metadata": {},
   "source": [
    "使用Koopman算子线性化Mugisho等的另外的第一个算例：\n",
    "非线性的切换系统，其子系统的形式为\n",
    "\n",
    "$$\n",
    "\\left \\{\n",
    "    \\begin{aligned}\n",
    "        & \\dot{x}_{1} = \\mu_{i} x_{1}, \\\\\n",
    "        & \\dot{x}_{2} = \\beta_{i} (x_{2} - x_{1}^{2}).\n",
    "    \\end{aligned}\n",
    "    \\mu_{i},\\beta_{i}\n",
    "\\right.\n",
    "$$\n"
   ]
  },
  {
   "cell_type": "code",
   "execution_count": 11,
   "metadata": {},
   "outputs": [
    {
     "name": "stdout",
     "output_type": "stream",
     "text": [
      "[  0.    0.1   0.2 ...  99.8  99.9 100. ]\n"
     ]
    }
   ],
   "source": [
    "import numpy as np\n",
    "import matplotlib.pyplot as plt\n",
    "from scipy.integrate import odeint\n",
    "\n",
    "\n",
    "def System(x, t, mu, beta):\n",
    "    return [mu * x[0], beta * (x[1] - x[0] ^ 2)]\n",
    "\n",
    "\n",
    "InitialCondition = np.random.rand(2, ).tolist()\n",
    "dt = 0.1\n",
    "Length = 1000\n",
    "Tspan = np.linspace(0, Length * dt, Length + 1)\n"
   ]
  }
 ],
 "metadata": {
  "kernelspec": {
   "display_name": "KCLF",
   "language": "python",
   "name": "python3"
  },
  "language_info": {
   "codemirror_mode": {
    "name": "ipython",
    "version": 3
   },
   "file_extension": ".py",
   "mimetype": "text/x-python",
   "name": "python",
   "nbconvert_exporter": "python",
   "pygments_lexer": "ipython3",
   "version": "3.10.11"
  },
  "orig_nbformat": 4
 },
 "nbformat": 4,
 "nbformat_minor": 2
}
